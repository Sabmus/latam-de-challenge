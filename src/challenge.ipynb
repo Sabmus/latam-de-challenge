{
  "cells": [
    {
      "cell_type": "markdown",
      "metadata": {},
      "source": [
        "En este archivo puedes escribir lo que estimes conveniente. Te recomendamos detallar tu solución y todas las suposiciones que estás considerando. Aquí puedes ejecutar las funciones que definiste en los otros archivos de la carpeta src, medir el tiempo, memoria, etc."
      ]
    },
    {
      "cell_type": "code",
      "execution_count": 1,
      "metadata": {},
      "outputs": [],
      "source": [
        "import os\n",
        "import cProfile\n",
        "import pstats\n",
        "from zipfile import ZipFile\n",
        "\n",
        "file_path = \"farmers-protest-tweets-2021-2-4.json\"\n",
        "parquet_file = \"tweets.parquet\"\n",
        "data_folder_path = os.path.abspath(os.path.join(os.getcwd(), '..', 'data'))\n",
        "\n",
        "# checkea si existe la carpeta data, sino, la crea\n",
        "if not os.path.exists(data_folder_path):\n",
        "    os.makedirs(data_folder_path)\n",
        "\n",
        "# checkea si existe el archivo tweets.json.zip, si no, checkea si existe el archivo json, si no, lanza excepción\n",
        "if not os.path.exists(f\"{data_folder_path}\\\\tweets.json.zip\"):\n",
        "    if not os.path.exists(f\"{data_folder_path}\\\\{file_path}\"):\n",
        "        raise FileNotFoundError(\"Por favor descargue el archivo 'tweets.json.zip' y colóquelo en la carpeta 'data'\")\n",
        "\n",
        "# si no existe el archivo json, descomprime el archivo zip\n",
        "if not os.path.exists(f\"{data_folder_path}\\\\{file_path}\"):\n",
        "    with ZipFile(f\"{data_folder_path}\\\\tweets.json.zip\", 'r') as zObject: \n",
        "        zObject.extractall(path=f\"{data_folder_path}\")"
      ]
    },
    {
      "cell_type": "code",
      "execution_count": 2,
      "metadata": {},
      "outputs": [],
      "source": [
        "from json_to_parquet import json_to_parquet\n",
        "json_path = f\"{data_folder_path}\\\\{file_path}\"\n",
        "parquet_path = f\"{data_folder_path}\\\\{parquet_file}\"\n",
        "if not os.path.exists(f\"{parquet_path}\"):\n",
        "    json_to_parquet(json_path, parquet_path)"
      ]
    },
    {
      "cell_type": "code",
      "execution_count": null,
      "metadata": {},
      "outputs": [],
      "source": [
        "from q1_memory import q1_memory\n",
        "q1_mem_result = q1_memory(f\"{parquet_path}\")\n",
        "q1_mem_result"
      ]
    },
    {
      "cell_type": "code",
      "execution_count": null,
      "metadata": {},
      "outputs": [],
      "source": [
        "from q1_time import q1_time\n",
        "\n",
        "with cProfile.Profile() as pr:\n",
        "    q1_time_result = q1_time(f\"{parquet_path}\")\n",
        "\n",
        "q1_stats = pstats.Stats(pr).strip_dirs().sort_stats('time')\n",
        "q1_stats.dump_stats('./stats/q1_time')\n",
        "q1_stats.print_stats()\n",
        "q1_time_result"
      ]
    },
    {
      "cell_type": "code",
      "execution_count": 3,
      "metadata": {},
      "outputs": [],
      "source": [
        "from q2_memory import q2_memory\n",
        "q2_mem_result = q2_memory(f\"{parquet_path}\")\n",
        "q2_mem_result"
      ]
    },
    {
      "cell_type": "code",
      "execution_count": null,
      "metadata": {},
      "outputs": [],
      "source": [
        "from q2_time import q2_time\n",
        "\n",
        "with cProfile.Profile() as pr:\n",
        "    q2_time_result = q2_time(f\"{data_folder_path}/{file_path}\")\n",
        "\n",
        "q2_stats = pstats.Stats(pr).strip_dirs().sort_stats('time')\n",
        "q2_stats.dump_stats('./stats/q2_time')\n",
        "q2_stats.print_stats()\n",
        "q2_time_result"
      ]
    },
    {
      "cell_type": "code",
      "execution_count": null,
      "metadata": {},
      "outputs": [],
      "source": [
        "from q3_memory import q3_memory\n",
        "q3_mem_result = q3_memory(f\"{data_folder_path}/{file_path}\")\n",
        "q3_mem_result"
      ]
    },
    {
      "cell_type": "code",
      "execution_count": null,
      "metadata": {},
      "outputs": [],
      "source": [
        "from q3_time import q3_time\n",
        "\n",
        "with cProfile.Profile() as pr:\n",
        "    q3_time_result = q3_time(f\"{data_folder_path}/{file_path}\")\n",
        "\n",
        "q3_stats = pstats.Stats(pr).strip_dirs().sort_stats('time')\n",
        "q3_stats.dump_stats('./stats/q3_time')\n",
        "q3_stats.print_stats()\n",
        "q3_time_result"
      ]
    }
  ],
  "metadata": {
    "kernelspec": {
      "display_name": ".venv",
      "language": "python",
      "name": "python3"
    },
    "language_info": {
      "codemirror_mode": {
        "name": "ipython",
        "version": 3
      },
      "file_extension": ".py",
      "mimetype": "text/x-python",
      "name": "python",
      "nbconvert_exporter": "python",
      "pygments_lexer": "ipython3",
      "version": "3.9.13"
    },
    "orig_nbformat": 4
  },
  "nbformat": 4,
  "nbformat_minor": 2
}

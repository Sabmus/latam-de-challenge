{
  "cells": [
    {
      "cell_type": "markdown",
      "metadata": {},
      "source": [
        "<p style=\"font-size: 12px\">En este archivo puedes escribir lo que estimes conveniente. Te recomendamos detallar tu solución y todas las suposiciones que estás considerando. Aquí puedes ejecutar las funciones que definiste en los otros archivos de la carpeta src, medir el tiempo, memoria, etc.</p>\n",
        "\n",
        "<div hidden>\n",
        "    <!-- Font normal -->\n",
        "    <p style=\"font-size: 16px\">text</p>\n",
        "    <!-- Font pequeño -->\n",
        "    <p style=\"font-size: 15px\">text</p>\n",
        "    <!-- hr interno -->\n",
        "    <hr style=\"height: 1px; color: hsl(221.25 24.24% 18%); background: hsl(221.25 24.24% 18%); font-size: 0; border: 0\">\n",
        "    <!-- hr externo -->\n",
        "    <hr style=\"height: 1px; color: hsl(163.3 98.98% 58.43%); background: hsl(163.3 98.98% 58.43%); font-size: 0; border: 0\">\n",
        "    <b style=\"color: hsl(163.3 98.98% 58.43%)\">bold</b>\n",
        "</div>"
      ]
    },
    {
      "cell_type": "markdown",
      "metadata": {},
      "source": [
        "<h1 align=\"center\">LATAM Data Engineer Challenge</h1>\n",
        "<hr style=\"height: 1px; color: hsl(221.25 24.24% 18%); background: hsl(221.25 24.24% 18%); font-size: 0; border: 0\">\n",
        "<p style=\"font-size: 16px\">Hola! gracias por leer! A continuación paso a detallar los pasos realizados y todo lo pensado para este desafio.</p>\n",
        "\n",
        "<div style=\"background-color: hsl(221.25 24.24% 18%); width: 30%; padding:5px 10px; border-radius: 5px\">\n",
        "<h3>Tech usadas</h3>\n",
        "<ul>\n",
        "<li>PySpark v3.5.1</li>\n",
        "<li>Python v3.9.13</li>\n",
        "<li>Pandas v2.2.2</li>\n",
        "</ul>\n",
        "</div>\n",
        "\n",
        "\n",
        "<h2>Proceso mental</h2>\n",
        "<p style=\"font-size: 16px\">Después de revisar la estructura del dataset y revisar la documentación, pensé que lo primero que debía hacer era buscar una manera de unir todos los <b style=\"color: hsl(163.3 98.98% 58.43%)\">quotedTweets</b> ya que finalmente correpsonden a otro tweet, y con esto lograr un mayor dataset.</p>\n",
        "\n",
        "<p style=\"font-size: 16px\">Siguiendo, y como quería usar PySpark creé una clase que instanciara a <b style=\"color: hsl(163.3 98.98% 58.43%)\">Spark</b> para dejar ahí toda la configuración y cualquier método que me fuera útil. Cabe descatar que todo el proceso lo corrí en local, por ende fui probando distintas configuraciones de <b style=\"color: hsl(163.3 98.98% 58.43%)\">Spark</b>, según ciertos errores que me iban arrojando las ejecuciones de código.</p>\n",
        "\n",
        "<p style=\"font-size: 16px\">Principalmente sufrí con un par de errores del tipo: \"<i>Py4JJavaError: An error occurred while calling {ABC}</i>\". Esto ocurría casi todas las veces que usé UDFs, busqué varias soluciones pero no dí con ninguna así que opté por no usar UDFs. Pienso que probablemente tengo algo mal seteado en Spark, y por ello me arrojó error cada vez que quise usd UDFs.</p>\n",
        "\n",
        "<p style=\"font-size: 16px\">Luego de realizar algunas pruebas con el archivo JSON, preferí pasarlo a Parquet para así mejorar el rendimiento de las ejecuciones.</p>\n",
        "\n",
        "<br>\n",
        "<br>\n",
        "<hr style=\"height: 1px; color: hsl(221.25 24.24% 18%); background: hsl(221.25 24.24% 18%); font-size: 0; border: 0\">\n",
        "\n",
        "<p style=\"font-size: 14px\">Referencias</p>\n",
        "<ul>\n",
        "<li><a href=\"https://medium.com/@dipan.saha/getting-started-with-pyspark-day-1-37e5e6fdc14b\" style=\"color: hsl(163.3 98.98% 58.43%)\" target=\"_blank\">Instalar PySpark en windows</a></li>\n",
        "<li><a href=\"https://spark.apache.org/docs/3.0.2/configuration.html\" style=\"color: hsl(163.3 98.98% 58.43%)\" target=\"_blank\">Docs de configuración de PySpark</a></li>\n",
        "</ul>"
      ]
    },
    {
      "cell_type": "markdown",
      "metadata": {},
      "source": [
        "<hr style=\"height: 1px; color: hsl(163.3 98.98% 58.43%); background: hsl(163.3 98.98% 58.43%); font-size: 0; border: 0\">"
      ]
    },
    {
      "cell_type": "markdown",
      "metadata": {},
      "source": [
        "<h2>Inicialización de variables</h2>"
      ]
    },
    {
      "cell_type": "markdown",
      "metadata": {},
      "source": [
        "<p style=\"font-size: 16px\">Creé la celda siguiente para chequear la instalación de Java.</p>"
      ]
    },
    {
      "cell_type": "code",
      "execution_count": null,
      "metadata": {},
      "outputs": [],
      "source": [
        "# check de java\n",
        "from subprocess import check_output, STDOUT\n",
        "try:\n",
        "  check_output(\"java -version\", stderr=STDOUT, shell=True).decode('utf-8')\n",
        "except OSError:\n",
        "  # raise KeyboardInterrupt(\"Por favor instale Java JDK para continuar.\")\n",
        "  print(\"Java no está instalado en su PC, para que el programa funcione correctamente, por favor instale Java en su PC.\")"
      ]
    },
    {
      "cell_type": "markdown",
      "metadata": {},
      "source": [
        "<p style=\"font-size: 16px\">Luego inicializo los nombres de archivos y las rutas, además de preguntar si es que existe el .zip para descomprimirlo en la carpeta <b style=\"color: hsl(163.3 98.98% 58.43%)\">data</b></p>"
      ]
    },
    {
      "cell_type": "code",
      "execution_count": null,
      "metadata": {},
      "outputs": [],
      "source": [
        "import os\n",
        "import cProfile\n",
        "import pstats\n",
        "from zipfile import ZipFile\n",
        "\n",
        "# declaro nombres de archivo y rutas\n",
        "json_file = \"farmers-protest-tweets-2021-2-4.json\"\n",
        "parquet_file = \"tweets.parquet\"\n",
        "data_folder_path = os.path.abspath(os.path.join(os.getcwd(), '..', 'data'))\n",
        "json_path = f\"{data_folder_path}\\\\{json_file}\"\n",
        "parquet_path = f\"{data_folder_path}\\\\{parquet_file}\"\n",
        "\n",
        "# checkea si existe la carpeta data, sino, la crea\n",
        "if not os.path.exists(data_folder_path):\n",
        "    os.makedirs(data_folder_path)\n",
        "\n",
        "# checkea si existe el archivo tweets.json.zip, si no, checkea si existe el archivo json, si no, lanza excepción\n",
        "if not os.path.exists(f\"{data_folder_path}\\\\tweets.json.zip\"):\n",
        "    if not os.path.exists(f\"{data_folder_path}\\\\{json_file}\"):\n",
        "        raise FileNotFoundError(\"Por favor descargue el archivo 'tweets.json.zip' y colóquelo en la carpeta 'data'\")\n",
        "\n",
        "# si no existe el archivo json, descomprime el archivo zip\n",
        "if not os.path.exists(f\"{data_folder_path}\\\\{json_file}\"):\n",
        "    with ZipFile(f\"{data_folder_path}\\\\tweets.json.zip\", 'r') as zObject: \n",
        "        zObject.extractall(path=f\"{data_folder_path}\")"
      ]
    },
    {
      "cell_type": "markdown",
      "metadata": {},
      "source": [
        "<p style=\"font-size: 16px\">Luego pregunta si es que existe el archivo parquet, sino, lo crea.</p>\n",
        "\n",
        "<p style=\"font-size: 16px\">La función <b style=\"color: hsl(163.3 98.98% 58.43%)\">json_to_parquet</b> toma el json principal (el de 389mb) y lo \"desnestea\". Esto va a buscar si existe algún elemento <b style=\"color: hsl(163.3 98.98% 58.43%)\">quotedTweet</b>, y si existe une sus datos con el dataframe principal, esto para crear un gran dataset con todos los tweets, luego de ellos lo pasa a formato <b style=\"color: hsl(163.3 98.98% 58.43%)\">parquet</b>.</p>\n",
        "\n",
        "```python\n",
        "def json_to_parquet(ruta_del_json: str, ruta_del_parquet: str) -> None\n",
        "```"
      ]
    },
    {
      "cell_type": "code",
      "execution_count": null,
      "metadata": {},
      "outputs": [],
      "source": [
        "from helpers.helperFuncs import json_to_parquet\n",
        "# si no encuentra el archivo parquet, lo crea\n",
        "if not os.path.exists(f\"{parquet_path}\"):\n",
        "    json_to_parquet(json_path, parquet_path)"
      ]
    },
    {
      "cell_type": "markdown",
      "metadata": {},
      "source": [
        "<hr style=\"height: 1px; color: hsl(163.3 98.98% 58.43%); background: hsl(163.3 98.98% 58.43%); font-size: 0; border: 0\">"
      ]
    },
    {
      "cell_type": "markdown",
      "metadata": {},
      "source": [
        "#### Pregunta 1\n",
        "Las top 10 fechas donde hay más tweets. Mencionar el usuario (username) que más publicaciones tiene por cada uno de esos días. Debe incluir las siguientes funciones:\n",
        "```python\n",
        "def q1_time(file_path: str) -> List[Tuple[datetime.date, str]]:\n",
        "```\n",
        "```python\n",
        "def q1_memory(file_path: str) -> List[Tuple[datetime.date, str]]:\n",
        "```\n",
        "```python\n",
        "Returns: \n",
        "[(datetime.date(1999, 11, 15), \"LATAM321\"), (datetime.date(1999, 7, 15), \"LATAM_CHI\"), ...]\n",
        "```"
      ]
    },
    {
      "cell_type": "code",
      "execution_count": null,
      "metadata": {},
      "outputs": [],
      "source": [
        "#%%script false --no-raise-error\n",
        "from q1_memory import q1_memory\n",
        "q1_mem_result = q1_memory(f\"{parquet_path}\")\n",
        "q1_mem_result"
      ]
    },
    {
      "cell_type": "code",
      "execution_count": null,
      "metadata": {},
      "outputs": [],
      "source": [
        "#%%script false --no-raise-error\n",
        "from q1_time import q1_time\n",
        "\n",
        "with cProfile.Profile() as pr:\n",
        "    q1_time_result = q1_time(f\"{parquet_path}\")\n",
        "\n",
        "q1_stats = pstats.Stats(pr).strip_dirs().sort_stats('time')\n",
        "q1_stats.dump_stats('./stats/q1_time')\n",
        "q1_stats.print_stats()\n",
        "q1_time_result"
      ]
    },
    {
      "cell_type": "markdown",
      "metadata": {},
      "source": [
        "<hr style=\"height: 1px; color: hsl(163.3 98.98% 58.43%); background: hsl(163.3 98.98% 58.43%); font-size: 0; border: 0\">"
      ]
    },
    {
      "cell_type": "markdown",
      "metadata": {},
      "source": [
        "#### Pregunta 2\n",
        "Los top 10 emojis más usados con su respectivo conteo. Debe incluir las siguientes funciones:\n",
        "```python\n",
        "def q2_time(file_path: str) -> List[Tuple[str, int]]:\n",
        "```\n",
        "```python\n",
        "def q2_memory(file_path: str) -> List[Tuple[str, int]]:\n",
        "```\n",
        "```python\n",
        "Returns: \n",
        "[(\"✈️\", 6856), (\"❤️\", 5876), ...]\n",
        "```"
      ]
    },
    {
      "cell_type": "code",
      "execution_count": null,
      "metadata": {},
      "outputs": [],
      "source": [
        "#%%script false --no-raise-error\n",
        "from q2_memory import q2_memory\n",
        "q2_mem_result = q2_memory(f\"{parquet_path}\")\n",
        "q2_mem_result"
      ]
    },
    {
      "cell_type": "code",
      "execution_count": null,
      "metadata": {},
      "outputs": [],
      "source": [
        "#%%script false --no-raise-error\n",
        "from q2_time import q2_time\n",
        "\n",
        "with cProfile.Profile() as pr:\n",
        "    q2_time_result = q2_time(f\"{parquet_path}\")\n",
        "\n",
        "q2_stats = pstats.Stats(pr).strip_dirs().sort_stats('time')\n",
        "q2_stats.dump_stats('./stats/q2_time')\n",
        "q2_stats.print_stats()\n",
        "q2_time_result"
      ]
    },
    {
      "cell_type": "markdown",
      "metadata": {},
      "source": [
        "<hr style=\"height: 1px; color: hsl(163.3 98.98% 58.43%); background: hsl(163.3 98.98% 58.43%); font-size: 0; border: 0\">"
      ]
    },
    {
      "cell_type": "markdown",
      "metadata": {},
      "source": [
        "#### Pregunta 3\n",
        "El top 10 histórico de usuarios (username) más influyentes en función del conteo de las menciones (@) que registra cada uno de ellos. Debe incluir las siguientes funciones:\n",
        "```python\n",
        "def q3_time(file_path: str) -> List[Tuple[str, int]]:\n",
        "```\n",
        "```python\n",
        "def q3_memory(file_path: str) -> List[Tuple[str, int]]:\n",
        "```\n",
        "```python\n",
        "Returns: \n",
        "[(\"LATAM321\", 387), (\"LATAM_CHI\", 129), ...]\n",
        "```"
      ]
    },
    {
      "cell_type": "code",
      "execution_count": null,
      "metadata": {},
      "outputs": [],
      "source": [
        "#%%script false --no-raise-error\n",
        "from q3_memory import q3_memory\n",
        "q3_mem_result = q3_memory(f\"{parquet_path}\")\n",
        "q3_mem_result"
      ]
    },
    {
      "cell_type": "code",
      "execution_count": null,
      "metadata": {},
      "outputs": [],
      "source": [
        "#%%script false --no-raise-error\n",
        "from q3_time import q3_time\n",
        "\n",
        "with cProfile.Profile() as pr:\n",
        "    q3_time_result = q3_time(f\"{parquet_path}\")\n",
        "\n",
        "q3_stats = pstats.Stats(pr).strip_dirs().sort_stats('time')\n",
        "q3_stats.dump_stats('./stats/q3_time')\n",
        "q3_stats.print_stats()\n",
        "q3_time_result"
      ]
    }
  ],
  "metadata": {
    "kernelspec": {
      "display_name": ".venv",
      "language": "python",
      "name": "python3"
    },
    "language_info": {
      "codemirror_mode": {
        "name": "ipython",
        "version": 3
      },
      "file_extension": ".py",
      "mimetype": "text/x-python",
      "name": "python",
      "nbconvert_exporter": "python",
      "pygments_lexer": "ipython3",
      "version": "3.9.13"
    },
    "orig_nbformat": 4
  },
  "nbformat": 4,
  "nbformat_minor": 2
}
